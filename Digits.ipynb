{
 "cells": [
  {
   "cell_type": "code",
   "execution_count": 1,
   "metadata": {},
   "outputs": [],
   "source": [
    "import matplotlib.pyplot as plt\n",
    "import pandas as pd\n",
    "import seaborn as sns\n",
    "import numpy as pd\n",
    "\n",
    "from sklearn import datasets\n",
    "from sklearn.model_selection import train_test_split\n",
    "from sklearn.naive_bayes import GaussianNB\n",
    "from sklearn.metrics import accuracy_score\n",
    "from sklearn.metrics import confusion_matrix\n",
    "from sklearn.linear_model import LogisticRegression"
   ]
  },
  {
   "cell_type": "code",
   "execution_count": 2,
   "metadata": {},
   "outputs": [],
   "source": [
    "#Defino features y targets\n",
    "digits = datasets.load_digits(return_X_y=True,as_frame=True)\n",
    "x = digits[0]\n",
    "y = digits[1]"
   ]
  },
  {
   "cell_type": "code",
   "execution_count": 3,
   "metadata": {},
   "outputs": [],
   "source": [
    "#Defino mi set de entrenamiento y testo\n",
    "x_train,x_test,y_train,y_test = train_test_split(x,y,random_state = 1)"
   ]
  },
  {
   "cell_type": "markdown",
   "metadata": {},
   "source": [
    "                                                                \n",
    "                                                                \n",
    "                                                                NAIVE BAYES\n",
    "\n"
   ]
  },
  {
   "cell_type": "code",
   "execution_count": 55,
   "metadata": {},
   "outputs": [
    {
     "data": {
      "text/plain": [
       "0.85"
      ]
     },
     "execution_count": 55,
     "metadata": {},
     "output_type": "execute_result"
    }
   ],
   "source": [
    "#Modelo Naive Bayes\n",
    "gnb = GaussianNB()\n",
    "gnb.fit(x_train,y_train)\n",
    "y_pred = gnb.predict(x_test)\n",
    "round(accuracy_score(y_test, y_pred), 2)"
   ]
  },
  {
   "cell_type": "code",
   "execution_count": 56,
   "metadata": {},
   "outputs": [
    {
     "data": {
      "text/plain": [
       "<AxesSubplot:>"
      ]
     },
     "execution_count": 56,
     "metadata": {},
     "output_type": "execute_result"
    },
    {
     "data": {
      "image/png": "[encoded data removed]",
      "text/plain": [
       "<Figure size 432x288 with 1 Axes>"
      ]
     },
     "metadata": {
      "needs_background": "light"
     },
     "output_type": "display_data"
    }
   ],
   "source": [
    "conf_matrix = confusion_matrix(y_test,y_pred)\n",
    "sns.heatmap(conf_matrix,annot=True,cbar= False)"
   ]
  },
  {
   "cell_type": "markdown",
   "metadata": {},
   "source": [
    "\n",
    "                                                      \n",
    "                                                      Regresión Logística\n",
    "                                                      \n",
    "                                                      "
   ]
  },
  {
   "cell_type": "code",
   "execution_count": 4,
   "metadata": {},
   "outputs": [
    {
     "data": {
      "text/plain": [
       "0.97"
      ]
     },
     "execution_count": 4,
     "metadata": {},
     "output_type": "execute_result"
    }
   ],
   "source": [
    "#Regresión Logística (max_iter = 3000 para que converja)\n",
    "logistic_regresion = LogisticRegression(max_iter=3000)\n",
    "logistic_regresion.fit(x_train,y_train)\n",
    "y_pred = logistic_regresion.predict(x_test)\n",
    "round(accuracy_score(y_test, y_pred), 2)"
   ]
  },
  {
   "cell_type": "code",
   "execution_count": 5,
   "metadata": {},
   "outputs": [
    {
     "data": {
      "text/plain": [
       "<AxesSubplot:>"
      ]
     },
     "execution_count": 5,
     "metadata": {},
     "output_type": "execute_result"
    },
    {
     "data": {
      "image/png": "[encoded data removed]",
      "text/plain": [
       "<Figure size 432x288 with 1 Axes>"
      ]
     },
     "metadata": {
      "needs_background": "light"
     },
     "output_type": "display_data"
    }
   ],
   "source": [
    "conf_matrix = confusion_matrix(y_test,y_pred)\n",
    "sns.heatmap(conf_matrix,annot=True,cbar= False)"
   ]
  },
  {
   "cell_type": "code",
   "execution_count": 24,
   "metadata": {
    "collapsed": true,
    "jupyter": {
     "outputs_hidden": true
    }
   },
   "outputs": [
    {
     "data": {
      "text/plain": [
       "array([1, 5, 0, 7, 1, 0, 6, 1, 5, 4, 9, 2, 7, 8, 4, 6, 9, 3, 7, 4, 7, 1,\n",
       "       8, 6, 0, 9, 6, 1, 3, 7, 5, 9, 8, 3, 2, 8, 8, 1, 1, 0, 7, 9, 0, 0,\n",
       "       8, 7, 2, 7, 4, 3, 4, 3, 4, 0, 4, 7, 0, 5, 5, 5, 2, 1, 7, 0, 5, 1,\n",
       "       8, 3, 3, 4, 0, 3, 7, 4, 3, 4, 2, 9, 7, 3, 2, 5, 3, 4, 1, 5, 5, 2,\n",
       "       1, 2, 2, 2, 2, 7, 0, 8, 1, 7, 4, 2, 3, 8, 2, 3, 3, 0, 2, 9, 5, 2,\n",
       "       3, 2, 8, 1, 1, 9, 1, 2, 0, 4, 8, 5, 4, 4, 7, 6, 7, 6, 6, 1, 7, 5,\n",
       "       6, 3, 8, 3, 7, 1, 8, 5, 3, 4, 7, 8, 5, 0, 6, 0, 6, 3, 7, 6, 5, 6,\n",
       "       2, 2, 2, 3, 0, 7, 6, 5, 6, 4, 1, 0, 6, 0, 6, 4, 0, 9, 3, 5, 1, 2,\n",
       "       3, 1, 9, 0, 7, 6, 2, 9, 3, 5, 3, 4, 6, 3, 3, 7, 4, 9, 2, 7, 6, 1,\n",
       "       6, 8, 4, 0, 3, 1, 0, 9, 9, 9, 0, 1, 8, 6, 8, 0, 9, 5, 9, 8, 2, 3,\n",
       "       5, 3, 0, 8, 7, 4, 0, 3, 3, 3, 6, 3, 3, 2, 9, 1, 6, 9, 0, 4, 2, 2,\n",
       "       7, 9, 1, 6, 7, 6, 8, 5, 1, 8, 3, 4, 0, 6, 4, 8, 5, 3, 6, 3, 1, 4,\n",
       "       0, 4, 4, 5, 7, 9, 1, 5, 2, 7, 0, 9, 0, 4, 4, 0, 1, 4, 6, 4, 2, 8,\n",
       "       5, 0, 2, 6, 0, 1, 8, 2, 0, 9, 5, 6, 2, 0, 5, 0, 9, 1, 4, 7, 1, 7,\n",
       "       0, 6, 6, 8, 0, 2, 2, 6, 9, 9, 7, 5, 1, 4, 6, 4, 6, 1, 9, 4, 7, 1,\n",
       "       3, 7, 8, 1, 6, 9, 8, 3, 2, 4, 8, 7, 5, 5, 6, 9, 9, 8, 3, 0, 0, 4,\n",
       "       9, 3, 0, 4, 9, 4, 2, 5, 4, 9, 6, 4, 2, 6, 0, 0, 5, 6, 7, 1, 9, 2,\n",
       "       5, 1, 5, 9, 8, 7, 7, 0, 6, 9, 3, 1, 3, 3, 9, 8, 7, 0, 2, 3, 9, 9,\n",
       "       2, 8, 1, 9, 8, 3, 0, 0, 7, 3, 8, 7, 9, 9, 7, 1, 0, 4, 5, 4, 1, 7,\n",
       "       3, 6, 5, 4, 9, 0, 5, 9, 1, 4, 5, 0, 4, 3, 4, 2, 7, 9, 0, 8, 7, 8,\n",
       "       6, 9, 4, 5, 7, 8, 3, 7, 8, 3], dtype=int64)"
      ]
     },
     "execution_count": 24,
     "metadata": {},
     "output_type": "execute_result"
    }
   ],
   "source": [
    "logistic_regresion.predict_proba(x_test).argmax(axis=1)"
   ]
  },
  {
   "cell_type": "code",
   "execution_count": 27,
   "metadata": {},
   "outputs": [],
   "source": [
    "#Logistic Regression con datos escalados\n",
    "from sklearn.preprocessing import StandardScaler\n",
    "scaler = StandardScaler()\n",
    "x_train_scaled = scaler.fit_transform(x_train)\n",
    "x_test_scaled = scaler.fit_transform(x_test)"
   ]
  },
  {
   "cell_type": "code",
   "execution_count": 28,
   "metadata": {},
   "outputs": [
    {
     "data": {
      "text/plain": [
       "LogisticRegression(max_iter=3000)"
      ]
     },
     "execution_count": 28,
     "metadata": {},
     "output_type": "execute_result"
    }
   ],
   "source": [
    "logistic_regresion.fit(x_train_scaled,y_train)"
   ]
  },
  {
   "cell_type": "code",
   "execution_count": 29,
   "metadata": {},
   "outputs": [
    {
     "data": {
      "text/plain": [
       "0.98"
      ]
     },
     "execution_count": 29,
     "metadata": {},
     "output_type": "execute_result"
    }
   ],
   "source": [
    "y_pred = logistic_regresion.predict(x_test_scaled)\n",
    "round(accuracy_score(y_test, y_pred), 2)"
   ]
  },
  {
   "cell_type": "code",
   "execution_count": 30,
   "metadata": {},
   "outputs": [
    {
     "data": {
      "text/plain": [
       "<AxesSubplot:>"
      ]
     },
     "execution_count": 30,
     "metadata": {},
     "output_type": "execute_result"
    },
    {
     "data": {
      "image/png": "[encoded data removed]",
      "text/plain": [
       "<Figure size 432x288 with 1 Axes>"
      ]
     },
     "metadata": {
      "needs_background": "light"
     },
     "output_type": "display_data"
    }
   ],
   "source": [
    "conf_matrix = confusion_matrix(y_test,y_pred)\n",
    "sns.heatmap(conf_matrix,annot=True,cbar= False)\n"
   ]
  },
  {
   "cell_type": "code",
   "execution_count": 59,
   "metadata": {},
   "outputs": [
    {
     "name": "stdout",
     "output_type": "stream",
     "text": [
      "1 1\n"
     ]
    }
   ],
   "source": [
    "print(y_pred[0],y_test.iloc[0])"
   ]
  },
  {
   "cell_type": "code",
   "execution_count": 57,
   "metadata": {},
   "outputs": [
    {
     "data": {
      "text/plain": [
       "1"
      ]
     },
     "execution_count": 57,
     "metadata": {},
     "output_type": "execute_result"
    }
   ],
   "source": [
    "y_test.iloc[]"
   ]
  },
  {
   "cell_type": "code",
   "execution_count": 53,
   "metadata": {},
   "outputs": [
    {
     "data": {
      "text/plain": [
       "1227    1\n",
       "1576    5\n",
       "202     0\n",
       "1184    7\n",
       "428     1\n",
       "       ..\n",
       "852     8\n",
       "1475    3\n",
       "211     7\n",
       "1047    8\n",
       "779     3\n",
       "Name: target, Length: 450, dtype: int32"
      ]
     },
     "execution_count": 53,
     "metadata": {},
     "output_type": "execute_result"
    }
   ],
   "source": [
    "y_test"
   ]
  },
  {
   "cell_type": "code",
   "execution_count": 60,
   "metadata": {},
   "outputs": [
    {
     "data": {
      "text/plain": [
       "(      pixel_0_0  pixel_0_1  pixel_0_2  pixel_0_3  pixel_0_4  pixel_0_5  \\\n",
       " 0           0.0        0.0        5.0       13.0        9.0        1.0   \n",
       " 1           0.0        0.0        0.0       12.0       13.0        5.0   \n",
       " 2           0.0        0.0        0.0        4.0       15.0       12.0   \n",
       " 3           0.0        0.0        7.0       15.0       13.0        1.0   \n",
       " 4           0.0        0.0        0.0        1.0       11.0        0.0   \n",
       " ...         ...        ...        ...        ...        ...        ...   \n",
       " 1792        0.0        0.0        4.0       10.0       13.0        6.0   \n",
       " 1793        0.0        0.0        6.0       16.0       13.0       11.0   \n",
       " 1794        0.0        0.0        1.0       11.0       15.0        1.0   \n",
       " 1795        0.0        0.0        2.0       10.0        7.0        0.0   \n",
       " 1796        0.0        0.0       10.0       14.0        8.0        1.0   \n",
       " \n",
       "       pixel_0_6  pixel_0_7  pixel_1_0  pixel_1_1  ...  pixel_6_6  pixel_6_7  \\\n",
       " 0           0.0        0.0        0.0        0.0  ...        0.0        0.0   \n",
       " 1           0.0        0.0        0.0        0.0  ...        0.0        0.0   \n",
       " 2           0.0        0.0        0.0        0.0  ...        5.0        0.0   \n",
       " 3           0.0        0.0        0.0        8.0  ...        9.0        0.0   \n",
       " 4           0.0        0.0        0.0        0.0  ...        0.0        0.0   \n",
       " ...         ...        ...        ...        ...  ...        ...        ...   \n",
       " 1792        0.0        0.0        0.0        1.0  ...        4.0        0.0   \n",
       " 1793        1.0        0.0        0.0        0.0  ...        1.0        0.0   \n",
       " 1794        0.0        0.0        0.0        0.0  ...        0.0        0.0   \n",
       " 1795        0.0        0.0        0.0        0.0  ...        2.0        0.0   \n",
       " 1796        0.0        0.0        0.0        2.0  ...        8.0        0.0   \n",
       " \n",
       "       pixel_7_0  pixel_7_1  pixel_7_2  pixel_7_3  pixel_7_4  pixel_7_5  \\\n",
       " 0           0.0        0.0        6.0       13.0       10.0        0.0   \n",
       " 1           0.0        0.0        0.0       11.0       16.0       10.0   \n",
       " 2           0.0        0.0        0.0        3.0       11.0       16.0   \n",
       " 3           0.0        0.0        7.0       13.0       13.0        9.0   \n",
       " 4           0.0        0.0        0.0        2.0       16.0        4.0   \n",
       " ...         ...        ...        ...        ...        ...        ...   \n",
       " 1792        0.0        0.0        2.0       14.0       15.0        9.0   \n",
       " 1793        0.0        0.0        6.0       16.0       14.0        6.0   \n",
       " 1794        0.0        0.0        2.0        9.0       13.0        6.0   \n",
       " 1795        0.0        0.0        5.0       12.0       16.0       12.0   \n",
       " 1796        0.0        1.0        8.0       12.0       14.0       12.0   \n",
       " \n",
       "       pixel_7_6  pixel_7_7  \n",
       " 0           0.0        0.0  \n",
       " 1           0.0        0.0  \n",
       " 2           9.0        0.0  \n",
       " 3           0.0        0.0  \n",
       " 4           0.0        0.0  \n",
       " ...         ...        ...  \n",
       " 1792        0.0        0.0  \n",
       " 1793        0.0        0.0  \n",
       " 1794        0.0        0.0  \n",
       " 1795        0.0        0.0  \n",
       " 1796        1.0        0.0  \n",
       " \n",
       " [1797 rows x 64 columns],\n",
       " 0       0\n",
       " 1       1\n",
       " 2       2\n",
       " 3       3\n",
       " 4       4\n",
       "        ..\n",
       " 1792    9\n",
       " 1793    0\n",
       " 1794    8\n",
       " 1795    9\n",
       " 1796    8\n",
       " Name: target, Length: 1797, dtype: int32)"
      ]
     },
     "execution_count": 60,
     "metadata": {},
     "output_type": "execute_result"
    }
   ],
   "source": [
    "digits"
   ]
  },
  {
   "cell_type": "code",
   "execution_count": null,
   "metadata": {},
   "outputs": [],
   "source": []
  }
 ],
 "metadata": {
  "kernelspec": {
   "display_name": "Python 3",
   "language": "python",
   "name": "python3"
  },
  "language_info": {
   "codemirror_mode": {
    "name": "ipython",
    "version": 3
   },
   "file_extension": ".py",
   "mimetype": "text/x-python",
   "name": "python",
   "nbconvert_exporter": "python",
   "pygments_lexer": "ipython3",
   "version": "3.7.9"
  }
 },
 "nbformat": 4,
 "nbformat_minor": 4
}
